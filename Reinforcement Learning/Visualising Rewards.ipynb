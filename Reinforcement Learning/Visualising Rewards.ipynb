{
 "cells": [
  {
   "cell_type": "code",
   "execution_count": 13,
   "id": "33efe5a1",
   "metadata": {},
   "outputs": [],
   "source": [
    "import numpy as np\n",
    "import matplotlib.pyplot as plt\n",
    "import matplotlib\n",
    "matplotlib.use('TkAgg')"
   ]
  },
  {
   "cell_type": "code",
   "execution_count": 6,
   "id": "31b407bb",
   "metadata": {},
   "outputs": [
    {
     "name": "stdout",
     "output_type": "stream",
     "text": [
      "Using matplotlib backend: <object object at 0x0000020F6388CC00>\n"
     ]
    }
   ],
   "source": [
    "%matplotlib"
   ]
  },
  {
   "cell_type": "code",
   "execution_count": 30,
   "id": "04889125",
   "metadata": {},
   "outputs": [],
   "source": [
    "PO = np.linspace(-5,5,100)\n",
    "ST = np.linspace(0,5,100)\n",
    "Kd = np.linspace(0,10,100)\n",
    "IAE = np.linspace(0,100,100)"
   ]
  },
  {
   "cell_type": "code",
   "execution_count": 33,
   "id": "1d700e72",
   "metadata": {},
   "outputs": [],
   "source": [
    "R1 = np.ones_like(PO)\n",
    "R2 = np.ones_like(ST)\n",
    "R3 = np.ones_like(Kd)\n",
    "R4 = np.ones_like(IAE)\n",
    "n = np.ones_like(PO)\n",
    "R = np.ones_like(PO)\n",
    "\n",
    "L1 = len(PO)\n",
    "L2 = len(ST)\n",
    "L3 = len(Kd)\n",
    "L4 = len(IAE)\n",
    "\n",
    "def reward(PO,ST,Kd):\n",
    "    \n",
    "    for i in range(0,L1):\n",
    "        if PO[i] >=0 and PO[i]<=1:\n",
    "            R1[i] = 50 -50*PO[i]   \n",
    "        if PO[i]>1:\n",
    "            R1[i] = 10 - 10*PO[i]  \n",
    "        if PO[i] < 0 and PO[i] >= -1:\n",
    "            R1[i] = 50 +50*PO[i]\n",
    "        if PO[i]<-1:\n",
    "            R1[i] = 10 + 10*PO[i]\n",
    "        n[i]=i\n",
    "        R[i]+=R1[i]\n",
    "        \n",
    "    for j in range(0,L2):\n",
    "        if ST[j] <= 1:\n",
    "            R2[j] = 100 - 100*ST[j]\n",
    "        if ST[j]> 1 and ST[j]<=2:\n",
    "            R2[j] = -100*(ST[j]-1)\n",
    "        if ST[j]>2:\n",
    "            R2[j] = -200\n",
    "        R2[j] *= 2\n",
    "        R[j]+=R2[j]\n",
    "        \n",
    "    for k in range(0,L3):\n",
    "        if Kd[k] < 0.01 :\n",
    "            R3[k] = -30 + Kd[k]*60000\n",
    "        if Kd[k] >=0.01 and Kd[k]<6:\n",
    "            R3[k] = 90-15*Kd[k]\n",
    "        if Kd[k]>=6:\n",
    "            R3[k] = -100\n",
    "        R[k]+=R3[k]\n",
    "        \n",
    "    for l in range(0,L4):\n",
    "        if IAE[l] >=0 and IAE[l]<100:\n",
    "            R4[l] = 100-IAE[l]\n",
    "        if IAE[l]>=100 and IAE[l]<200:\n",
    "            R4[l] = 20-IAE[l]/10\n",
    "        if IAE[l]>=200:\n",
    "            R4[l] = -1000\n",
    "        if IAE[l]<0:\n",
    "            R4[l] = -1000-IAE[l]*100\n",
    "\n",
    "    return R1,R2,R3,R4,R,n"
   ]
  },
  {
   "cell_type": "code",
   "execution_count": 32,
   "id": "0d429a47",
   "metadata": {
    "scrolled": false
   },
   "outputs": [
    {
     "data": {
      "text/plain": [
       "Text(0, 0.5, 'Reward')"
      ]
     },
     "execution_count": 32,
     "metadata": {},
     "output_type": "execute_result"
    }
   ],
   "source": [
    "fig1,ax1 = plt.subplots()\n",
    "fig1.suptitle('Reward vs PO',fontsize=15)\n",
    "fig2,ax2 = plt.subplots()\n",
    "fig2.suptitle('Reward vs ST',fontsize=15)\n",
    "fig3,ax3 = plt.subplots()\n",
    "fig3.suptitle('Reward vs Kd',fontsize=15)\n",
    "fig4,ax4 = plt.subplots()\n",
    "fig4.suptitle('Reward vs IAE',fontsize=15)\n",
    "# fig4,ax4 = plt.subplots()\n",
    "# fig4.suptitle('Reward vs Time')\n",
    "reward(PO,ST,Kd)\n",
    "ax1.plot(PO,R1)\n",
    "ax1.set_xlabel('PO',fontsize=15)\n",
    "ax1.set_ylabel('Reward',fontsize=15)\n",
    "ax2.plot(ST,R2)\n",
    "ax2.set_xlabel('ST',fontsize=15)\n",
    "ax2.set_ylabel('Reward',fontsize=15)\n",
    "ax2.set_xlim(0,5)\n",
    "ax2.set_ylim(-450,250)\n",
    "ax3.plot(Kd,R3)\n",
    "ax3.set_xlabel('Kd',fontsize=15)\n",
    "ax3.set_ylabel('Reward',fontsize=15)\n",
    "ax4.plot(IAE,R4)\n",
    "ax4.set_xlabel('IAE',fontsize=15)\n",
    "ax4.set_ylabel('Reward',fontsize=15)\n",
    "# ax4.plot(n,R)"
   ]
  }
 ],
 "metadata": {
  "kernelspec": {
   "display_name": "Python 3 (ipykernel)",
   "language": "python",
   "name": "python3"
  },
  "language_info": {
   "codemirror_mode": {
    "name": "ipython",
    "version": 3
   },
   "file_extension": ".py",
   "mimetype": "text/x-python",
   "name": "python",
   "nbconvert_exporter": "python",
   "pygments_lexer": "ipython3",
   "version": "3.9.16"
  }
 },
 "nbformat": 4,
 "nbformat_minor": 5
}
