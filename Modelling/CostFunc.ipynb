{
 "cells": [
  {
   "cell_type": "code",
   "execution_count": 1,
   "id": "a9a34513",
   "metadata": {},
   "outputs": [],
   "source": [
    "import ballbeammodel as bb\n",
    "import numpy as np\n",
    "import scipy as sp\n",
    "import matplotlib.pyplot as plt\n",
    "\n",
    "\n",
    "def costfunc(params,dt,SP):\n",
    "    Kp = params[0]\n",
    "    Kd = params[1]\n",
    "    Ki = params[2]\n",
    "    T,X,U,V = bb.ballbeammodel(Kp,Kd,Ki,dt,SP)\n",
    "    err = []\n",
    "    for i in range(0,len(U)):\n",
    "        error = abs(0.15-X[i])\n",
    "        err.append(error)\n",
    "    q = sp.integrate.trapz(err,T)\n",
    "    return q"
   ]
  },
  {
   "cell_type": "code",
   "execution_count": 19,
   "id": "a0864f0c",
   "metadata": {},
   "outputs": [],
   "source": [
    "# params = [3,4,0.3]\n",
    "# dt = 0.014\n",
    "# SP = 0.15\n",
    "# Q = costfunc(params,dt,SP)\n",
    "# print(Q)"
   ]
  }
 ],
 "metadata": {
  "kernelspec": {
   "display_name": "Python 3 (ipykernel)",
   "language": "python",
   "name": "python3"
  },
  "language_info": {
   "codemirror_mode": {
    "name": "ipython",
    "version": 3
   },
   "file_extension": ".py",
   "mimetype": "text/x-python",
   "name": "python",
   "nbconvert_exporter": "python",
   "pygments_lexer": "ipython3",
   "version": "3.9.16"
  }
 },
 "nbformat": 4,
 "nbformat_minor": 5
}
