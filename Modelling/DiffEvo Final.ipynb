{
 "cells": [
  {
   "cell_type": "code",
   "execution_count": 1,
   "id": "30e8b037",
   "metadata": {},
   "outputs": [],
   "source": [
    "import numpy as np\n",
    "from scipy.optimize import differential_evolution\n",
    "import matplotlib.pyplot as plt\n",
    "import ballbeammodel as bb\n",
    "import CostFunc as CF"
   ]
  },
  {
   "cell_type": "code",
   "execution_count": null,
   "id": "00cb6e18",
   "metadata": {},
   "outputs": [],
   "source": [
    "bounds = [(0,1000),(0,1000),(0,1000)]\n",
    "args = [0.014,0.15]\n",
    "result = differential_evolution(CF.costfunc,\n",
    "                                bounds,\n",
    "                                args,\n",
    "                                strategy='best1bin',\n",
    "                                maxiter = 20000,\n",
    "                                popsize = 30,\n",
    "                                mutation = 0.9,\n",
    "                                recombination = 0.3,\n",
    "                                polish = True,\n",
    "                                init = 'latinhypercube',\n",
    "                                disp = True)\n",
    "\n",
    "# result = differential_evolution(CF.costfunc,         - Sets the cost function\n",
    "#                                 bounds,              - Sets limits for values\n",
    "#                                 args,                - dt and setpoint for calculations\n",
    "#                                 strategy='best1bin', - mutation strategy\n",
    "#                                 maxiter = 20000,     - max iterations\n",
    "#                                 popsize = 30,        - population size\n",
    "#                                 mutation = 0.9,      - mutation rate\n",
    "#                                 recombination = 0.3, - crossover rate\n",
    "#                                 polish = True,       - polishes final answer to achieve lower cost\n",
    "#                                 init = 'sobol')      - randomly initialises first population"
   ]
  },
  {
   "cell_type": "code",
   "execution_count": 40,
   "id": "15ab0e8d",
   "metadata": {},
   "outputs": [
    {
     "data": {
      "text/plain": [
       " message: Optimization terminated successfully.\n",
       " success: True\n",
       "     fun: 0.049824080891305966\n",
       "       x: [ 2.417e+02  9.027e+01  6.793e+02]\n",
       "     nit: 53\n",
       "    nfev: 4880\n",
       "     jac: [-9.860e-07  1.506e-07 -1.041e-08]"
      ]
     },
     "execution_count": 40,
     "metadata": {},
     "output_type": "execute_result"
    }
   ],
   "source": [
    "result #rand1bin"
   ]
  },
  {
   "cell_type": "code",
   "execution_count": 33,
   "id": "f02bc1f8",
   "metadata": {},
   "outputs": [
    {
     "data": {
      "text/plain": [
       "(array([242.99407372,  89.17664077, 373.42384357]), 0.049835189467517256)"
      ]
     },
     "execution_count": 33,
     "metadata": {},
     "output_type": "execute_result"
    }
   ],
   "source": [
    "result.x,result.fun"
   ]
  },
  {
   "cell_type": "code",
   "execution_count": 30,
   "id": "ffa24c9a",
   "metadata": {},
   "outputs": [
    {
     "data": {
      "text/plain": [
       "(array([289.29591754, 107.80018605, 274.82095318]), 0.049784141852968394)"
      ]
     },
     "execution_count": 30,
     "metadata": {},
     "output_type": "execute_result"
    }
   ],
   "source": [
    "result.x,result.fun "
   ]
  },
  {
   "cell_type": "code",
   "execution_count": 42,
   "id": "d1ee16cd",
   "metadata": {},
   "outputs": [
    {
     "data": {
      "text/plain": [
       " message: Optimization terminated successfully.\n",
       " success: True\n",
       "     fun: 0.04989201469435644\n",
       "       x: [ 1.655e+02  6.105e+01  9.306e+02]\n",
       "     nit: 33\n",
       "    nfev: 3088\n",
       "     jac: [-7.717e-06  2.386e-05 -1.138e-07]"
      ]
     },
     "execution_count": 42,
     "metadata": {},
     "output_type": "execute_result"
    }
   ],
   "source": [
    "result #best1bin"
   ]
  },
  {
   "cell_type": "code",
   "execution_count": 6,
   "id": "2a274a9b",
   "metadata": {
    "scrolled": false
   },
   "outputs": [
    {
     "data": {
      "image/png": "[encoded data removed]",
      "text/plain": [
       "<Figure size 640x480 with 1 Axes>"
      ]
     },
     "metadata": {},
     "output_type": "display_data"
    }
   ],
   "source": [
    "Kp = result.x[0]\n",
    "Kd = result.x[1]\n",
    "Ki = result.x[2]\n",
    "T,X,U,V = bb.ballbeammodel(Kp,Kd,Ki,0.014,0.15)\n",
    "plt.plot(T,X)\n",
    "plt.axhline(0.15,linestyle = '--',color = 'r')\n",
    "plt.grid(True,which='both')"
   ]
  },
  {
   "cell_type": "code",
   "execution_count": 13,
   "id": "b976b567",
   "metadata": {},
   "outputs": [],
   "source": [
    "import numpy as np\n",
    "import scipy as sp\n",
    "#parameters\n",
    "tf = 10      #time period of simulation\n",
    "limit = 35   #limit of angle of beam in degrees\n",
    "L = 0.3    #beam length\n",
    "m = 0.023    #ball mass\n",
    "R = 0.02    #ball radius\n",
    "g = -9.8      #gravitational acceleration\n",
    "d = 0.03     #lever arm offset\n",
    "J = (2/3)*m*R**2    #Moment of inertia of a hollow sphere\n",
    "#J = (2/5)*m*R**2   #Moment of inertia of a solid sphere\n",
    "\n",
    "def ballbeammodeldisp(Kp,Kd,Ki,dt,SP):\n",
    "    dt = dt\n",
    "    t = 0\n",
    "    x = 0.05\n",
    "    SP = SP\n",
    "    v = 0\n",
    "    u = 0\n",
    "    Ierror = 0\n",
    "    uprev = 0\n",
    "    \n",
    "    Ulis = []\n",
    "    Ulis.append(u)\n",
    "    Xlis = []\n",
    "    Xlis.append(x)\n",
    "    Tlis = []\n",
    "    Tlis.append(t)\n",
    "    Vlis = []\n",
    "    Vlis.append(v)\n",
    "    \n",
    "    while (t<tf):\n",
    "#         if t==15.497999999999688:\n",
    "#             x = 0.20\n",
    "        u = max((-limit*(np.pi/180)),min((limit*(np.pi/180)),Kp*(x-SP)+Kd*v+Ki*((x-SP)*(dt))))*(d/L)\n",
    "        \n",
    "\n",
    "        udot = (u-uprev)/dt\n",
    "        t += dt\n",
    "        v += ((m*g*np.sin(u)+(m*x*udot**2))/(((J/R**2)+m)))*(dt)\n",
    "        x += v*(dt)\n",
    "        x = max(0,min(L,x))\n",
    "        uprev = u\n",
    "        \n",
    "        \n",
    "        Ulis.append(u)\n",
    "        Tlis.append(t)\n",
    "        Vlis.append(v)\n",
    "        Xlis.append(x)\n",
    "        \n",
    "        \n",
    "    return Tlis,Xlis,Ulis,Vlis"
   ]
  }
 ],
 "metadata": {
  "kernelspec": {
   "display_name": "Python 3 (ipykernel)",
   "language": "python",
   "name": "python3"
  },
  "language_info": {
   "codemirror_mode": {
    "name": "ipython",
    "version": 3
   },
   "file_extension": ".py",
   "mimetype": "text/x-python",
   "name": "python",
   "nbconvert_exporter": "python",
   "pygments_lexer": "ipython3",
   "version": "3.9.16"
  }
 },
 "nbformat": 4,
 "nbformat_minor": 5
}
